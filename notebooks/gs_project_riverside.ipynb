{
 "cells": [
  {
   "cell_type": "code",
   "execution_count": 1,
   "metadata": {},
   "outputs": [],
   "source": [
    "from shapely.geometry import Point\n",
    "import pandas as pd\n",
    "import geopandas as gpd\n",
    "import matplotlib.pyplot as plt\n",
    "import folium\n",
    "from folium.plugins import MarkerCluster\n",
    "from folium.plugins import FastMarkerCluster"
   ]
  },
  {
   "cell_type": "code",
   "execution_count": 2,
   "metadata": {},
   "outputs": [
    {
     "name": "stdout",
     "output_type": "stream",
     "text": [
      "epsg:4326\n"
     ]
    },
    {
     "data": {
      "text/html": [
       "<div>\n",
       "<style scoped>\n",
       "    .dataframe tbody tr th:only-of-type {\n",
       "        vertical-align: middle;\n",
       "    }\n",
       "\n",
       "    .dataframe tbody tr th {\n",
       "        vertical-align: top;\n",
       "    }\n",
       "\n",
       "    .dataframe thead th {\n",
       "        text-align: right;\n",
       "    }\n",
       "</style>\n",
       "<table border=\"1\" class=\"dataframe\">\n",
       "  <thead>\n",
       "    <tr style=\"text-align: right;\">\n",
       "      <th></th>\n",
       "      <th>acres</th>\n",
       "      <th>name</th>\n",
       "      <th>year_estab</th>\n",
       "      <th>common_nam</th>\n",
       "      <th>status</th>\n",
       "      <th>address</th>\n",
       "      <th>lon</th>\n",
       "      <th>lat</th>\n",
       "      <th>descriptio</th>\n",
       "      <th>geometry</th>\n",
       "    </tr>\n",
       "  </thead>\n",
       "  <tbody>\n",
       "    <tr>\n",
       "      <th>0</th>\n",
       "      <td>69.86</td>\n",
       "      <td>Harpeth River Park</td>\n",
       "      <td>1988</td>\n",
       "      <td>Harpeth River</td>\n",
       "      <td>PARK</td>\n",
       "      <td>7820 Coley Davis Rd</td>\n",
       "      <td>-86.9592214</td>\n",
       "      <td>36.07738249</td>\n",
       "      <td>Harpeth River State Park has much historical a...</td>\n",
       "      <td>MULTIPOLYGON (((-86.95547 36.07930, -86.95578 ...</td>\n",
       "    </tr>\n",
       "    <tr>\n",
       "      <th>1</th>\n",
       "      <td>9.88</td>\n",
       "      <td>Harpeth Knoll Park</td>\n",
       "      <td>1972</td>\n",
       "      <td>Harpeth Knoll</td>\n",
       "      <td>PARK</td>\n",
       "      <td>708 Goodpasture Terrace</td>\n",
       "      <td>-86.93815537</td>\n",
       "      <td>36.05942777</td>\n",
       "      <td>Huge grassy field with playground, and shade s...</td>\n",
       "      <td>MULTIPOLYGON (((-86.93860 36.06077, -86.93742 ...</td>\n",
       "    </tr>\n",
       "    <tr>\n",
       "      <th>2</th>\n",
       "      <td>17.14</td>\n",
       "      <td>Bellevue Park</td>\n",
       "      <td>1982</td>\n",
       "      <td>Red Caboose</td>\n",
       "      <td>PARK</td>\n",
       "      <td>656 Colice Jeanne Rd</td>\n",
       "      <td>-86.93354496</td>\n",
       "      <td>36.07159731</td>\n",
       "      <td>Bellevue Park, known as Red Caboose Park, is p...</td>\n",
       "      <td>MULTIPOLYGON (((-86.93207 36.06954, -86.93283 ...</td>\n",
       "    </tr>\n",
       "    <tr>\n",
       "      <th>3</th>\n",
       "      <td>809.59</td>\n",
       "      <td>Bells Bend Park</td>\n",
       "      <td>2007</td>\n",
       "      <td>Bells Bend</td>\n",
       "      <td>PARK</td>\n",
       "      <td>4187 Old Hickory Blvd</td>\n",
       "      <td>-86.92646294</td>\n",
       "      <td>36.15016925</td>\n",
       "      <td>Located in western Davidson County, this park ...</td>\n",
       "      <td>MULTIPOLYGON (((-86.93987 36.16093, -86.93495 ...</td>\n",
       "    </tr>\n",
       "    <tr>\n",
       "      <th>4</th>\n",
       "      <td>2168.792</td>\n",
       "      <td>Alvin G. Beaman Park</td>\n",
       "      <td>1996</td>\n",
       "      <td>Beaman</td>\n",
       "      <td>PARK</td>\n",
       "      <td>5911 Old Hickory Blvd.</td>\n",
       "      <td>-86.91984207</td>\n",
       "      <td>36.26075833</td>\n",
       "      <td>Beaman Park provides education and awareness p...</td>\n",
       "      <td>MULTIPOLYGON (((-86.90367 36.27352, -86.90364 ...</td>\n",
       "    </tr>\n",
       "  </tbody>\n",
       "</table>\n",
       "</div>"
      ],
      "text/plain": [
       "      acres                  name year_estab     common_nam status  \\\n",
       "0     69.86    Harpeth River Park       1988  Harpeth River   PARK   \n",
       "1      9.88    Harpeth Knoll Park       1972  Harpeth Knoll   PARK   \n",
       "2     17.14         Bellevue Park       1982    Red Caboose   PARK   \n",
       "3    809.59       Bells Bend Park       2007     Bells Bend   PARK   \n",
       "4  2168.792  Alvin G. Beaman Park       1996         Beaman   PARK   \n",
       "\n",
       "                   address           lon          lat  \\\n",
       "0      7820 Coley Davis Rd   -86.9592214  36.07738249   \n",
       "1  708 Goodpasture Terrace  -86.93815537  36.05942777   \n",
       "2     656 Colice Jeanne Rd  -86.93354496  36.07159731   \n",
       "3    4187 Old Hickory Blvd  -86.92646294  36.15016925   \n",
       "4   5911 Old Hickory Blvd.  -86.91984207  36.26075833   \n",
       "\n",
       "                                          descriptio  \\\n",
       "0  Harpeth River State Park has much historical a...   \n",
       "1  Huge grassy field with playground, and shade s...   \n",
       "2  Bellevue Park, known as Red Caboose Park, is p...   \n",
       "3  Located in western Davidson County, this park ...   \n",
       "4  Beaman Park provides education and awareness p...   \n",
       "\n",
       "                                            geometry  \n",
       "0  MULTIPOLYGON (((-86.95547 36.07930, -86.95578 ...  \n",
       "1  MULTIPOLYGON (((-86.93860 36.06077, -86.93742 ...  \n",
       "2  MULTIPOLYGON (((-86.93207 36.06954, -86.93283 ...  \n",
       "3  MULTIPOLYGON (((-86.93987 36.16093, -86.93495 ...  \n",
       "4  MULTIPOLYGON (((-86.90367 36.27352, -86.90364 ...  "
      ]
     },
     "execution_count": 2,
     "metadata": {},
     "output_type": "execute_result"
    }
   ],
   "source": [
    "parks = gpd.read_file('../data/Metro_Parks.geojson')\n",
    "water = gpd.read_file('../data/Public_Water_Systems.geojson')\n",
    "print(parks.crs)\n",
    "parks.head()"
   ]
  },
  {
   "cell_type": "code",
   "execution_count": 3,
   "metadata": {},
   "outputs": [
    {
     "name": "stdout",
     "output_type": "stream",
     "text": [
      "epsg:4326\n"
     ]
    },
    {
     "data": {
      "text/html": [
       "<div>\n",
       "<style scoped>\n",
       "    .dataframe tbody tr th:only-of-type {\n",
       "        vertical-align: middle;\n",
       "    }\n",
       "\n",
       "    .dataframe tbody tr th {\n",
       "        vertical-align: top;\n",
       "    }\n",
       "\n",
       "    .dataframe thead th {\n",
       "        text-align: right;\n",
       "    }\n",
       "</style>\n",
       "<table border=\"1\" class=\"dataframe\">\n",
       "  <thead>\n",
       "    <tr style=\"text-align: right;\">\n",
       "      <th></th>\n",
       "      <th>name</th>\n",
       "      <th>location</th>\n",
       "      <th>dog</th>\n",
       "      <th>objectid</th>\n",
       "      <th>lon</th>\n",
       "      <th>ada</th>\n",
       "      <th>cnt</th>\n",
       "      <th>lat</th>\n",
       "      <th>feat_type</th>\n",
       "      <th>geometry</th>\n",
       "    </tr>\n",
       "  </thead>\n",
       "  <tbody>\n",
       "    <tr>\n",
       "      <th>0</th>\n",
       "      <td>Beaman Water Fountain</td>\n",
       "      <td>None</td>\n",
       "      <td>Y</td>\n",
       "      <td>45921</td>\n",
       "      <td>36.26250456</td>\n",
       "      <td>Y</td>\n",
       "      <td>1</td>\n",
       "      <td>-86.89425346</td>\n",
       "      <td>Fountain/Bottle filler/ADA</td>\n",
       "      <td>POINT (-86.89425 36.26250)</td>\n",
       "    </tr>\n",
       "    <tr>\n",
       "      <th>1</th>\n",
       "      <td>Edwin Nature Center Water Fountain</td>\n",
       "      <td>Restrooms Breezeway</td>\n",
       "      <td>N</td>\n",
       "      <td>45937</td>\n",
       "      <td>36.06089915</td>\n",
       "      <td>Y</td>\n",
       "      <td>1</td>\n",
       "      <td>-86.90622747</td>\n",
       "      <td>Bottle Filler/ADA</td>\n",
       "      <td>POINT (-86.90623 36.06090)</td>\n",
       "    </tr>\n",
       "    <tr>\n",
       "      <th>2</th>\n",
       "      <td>Percy Warner Belle Meade Gates Water Fountain</td>\n",
       "      <td>Belle Meade Gates</td>\n",
       "      <td>Y</td>\n",
       "      <td>45964</td>\n",
       "      <td>36.08310102</td>\n",
       "      <td>Y</td>\n",
       "      <td>1</td>\n",
       "      <td>-86.86727566</td>\n",
       "      <td>ADA Bowl</td>\n",
       "      <td>POINT (-86.86728 36.08310)</td>\n",
       "    </tr>\n",
       "    <tr>\n",
       "      <th>3</th>\n",
       "      <td>West Park Water Fountain</td>\n",
       "      <td>Ballfield</td>\n",
       "      <td>N</td>\n",
       "      <td>45992</td>\n",
       "      <td>36.16179583</td>\n",
       "      <td>N</td>\n",
       "      <td>1</td>\n",
       "      <td>-86.86378994</td>\n",
       "      <td>Single with foot pedal</td>\n",
       "      <td>POINT (-86.86379 36.16180)</td>\n",
       "    </tr>\n",
       "    <tr>\n",
       "      <th>4</th>\n",
       "      <td>Richland Park Water Fountain</td>\n",
       "      <td>Playground</td>\n",
       "      <td>N</td>\n",
       "      <td>46012</td>\n",
       "      <td>36.15139384</td>\n",
       "      <td>N</td>\n",
       "      <td>1</td>\n",
       "      <td>-86.84589094</td>\n",
       "      <td>Single with foot pedal</td>\n",
       "      <td>POINT (-86.84589 36.15139)</td>\n",
       "    </tr>\n",
       "  </tbody>\n",
       "</table>\n",
       "</div>"
      ],
      "text/plain": [
       "                                            name             location dog  \\\n",
       "0                          Beaman Water Fountain                 None   Y   \n",
       "1             Edwin Nature Center Water Fountain  Restrooms Breezeway   N   \n",
       "2  Percy Warner Belle Meade Gates Water Fountain    Belle Meade Gates   Y   \n",
       "3                       West Park Water Fountain            Ballfield   N   \n",
       "4                   Richland Park Water Fountain           Playground   N   \n",
       "\n",
       "  objectid          lon ada cnt           lat                   feat_type  \\\n",
       "0    45921  36.26250456   Y   1  -86.89425346  Fountain/Bottle filler/ADA   \n",
       "1    45937  36.06089915   Y   1  -86.90622747           Bottle Filler/ADA   \n",
       "2    45964  36.08310102   Y   1  -86.86727566                    ADA Bowl   \n",
       "3    45992  36.16179583   N   1  -86.86378994      Single with foot pedal   \n",
       "4    46012  36.15139384   N   1  -86.84589094      Single with foot pedal   \n",
       "\n",
       "                     geometry  \n",
       "0  POINT (-86.89425 36.26250)  \n",
       "1  POINT (-86.90623 36.06090)  \n",
       "2  POINT (-86.86728 36.08310)  \n",
       "3  POINT (-86.86379 36.16180)  \n",
       "4  POINT (-86.84589 36.15139)  "
      ]
     },
     "execution_count": 3,
     "metadata": {},
     "output_type": "execute_result"
    }
   ],
   "source": [
    "print(water.crs)\n",
    "water.head()"
   ]
  },
  {
   "cell_type": "code",
   "execution_count": 4,
   "metadata": {},
   "outputs": [
    {
     "data": {
      "text/plain": [
       "geopandas.geodataframe.GeoDataFrame"
      ]
     },
     "execution_count": 4,
     "metadata": {},
     "output_type": "execute_result"
    }
   ],
   "source": [
    "type(parks)"
   ]
  },
  {
   "cell_type": "code",
   "execution_count": 5,
   "metadata": {},
   "outputs": [
    {
     "data": {
      "text/plain": [
       "geopandas.geodataframe.GeoDataFrame"
      ]
     },
     "execution_count": 5,
     "metadata": {},
     "output_type": "execute_result"
    }
   ],
   "source": [
    "type(water)"
   ]
  },
  {
   "cell_type": "code",
   "execution_count": 6,
   "metadata": {},
   "outputs": [
    {
     "data": {
      "image/png": "[encoded data removed]",
      "text/plain": [
       "<Figure size 432x288 with 1 Axes>"
      ]
     },
     "metadata": {
      "needs_background": "light"
     },
     "output_type": "display_data"
    }
   ],
   "source": [
    "parks.plot();"
   ]
  },
  {
   "cell_type": "code",
   "execution_count": 7,
   "metadata": {},
   "outputs": [
    {
     "data": {
      "image/png": "[encoded data removed]",
      "text/plain": [
       "<Figure size 432x288 with 1 Axes>"
      ]
     },
     "metadata": {
      "needs_background": "light"
     },
     "output_type": "display_data"
    }
   ],
   "source": [
    "water.plot();"
   ]
  },
  {
   "cell_type": "code",
   "execution_count": 8,
   "metadata": {},
   "outputs": [
    {
     "data": {
      "text/html": [
       "<div>\n",
       "<style scoped>\n",
       "    .dataframe tbody tr th:only-of-type {\n",
       "        vertical-align: middle;\n",
       "    }\n",
       "\n",
       "    .dataframe tbody tr th {\n",
       "        vertical-align: top;\n",
       "    }\n",
       "\n",
       "    .dataframe thead th {\n",
       "        text-align: right;\n",
       "    }\n",
       "</style>\n",
       "<table border=\"1\" class=\"dataframe\">\n",
       "  <thead>\n",
       "    <tr style=\"text-align: right;\">\n",
       "      <th></th>\n",
       "      <th>name</th>\n",
       "      <th>acres</th>\n",
       "      <th>geometry</th>\n",
       "    </tr>\n",
       "  </thead>\n",
       "  <tbody>\n",
       "    <tr>\n",
       "      <th>0</th>\n",
       "      <td>Harpeth River Park</td>\n",
       "      <td>69.86</td>\n",
       "      <td>MULTIPOLYGON (((-86.95547 36.07930, -86.95578 ...</td>\n",
       "    </tr>\n",
       "    <tr>\n",
       "      <th>1</th>\n",
       "      <td>Harpeth Knoll Park</td>\n",
       "      <td>9.88</td>\n",
       "      <td>MULTIPOLYGON (((-86.93860 36.06077, -86.93742 ...</td>\n",
       "    </tr>\n",
       "    <tr>\n",
       "      <th>2</th>\n",
       "      <td>Bellevue Park</td>\n",
       "      <td>17.14</td>\n",
       "      <td>MULTIPOLYGON (((-86.93207 36.06954, -86.93283 ...</td>\n",
       "    </tr>\n",
       "    <tr>\n",
       "      <th>3</th>\n",
       "      <td>Bells Bend Park</td>\n",
       "      <td>809.59</td>\n",
       "      <td>MULTIPOLYGON (((-86.93987 36.16093, -86.93495 ...</td>\n",
       "    </tr>\n",
       "    <tr>\n",
       "      <th>4</th>\n",
       "      <td>Alvin G. Beaman Park</td>\n",
       "      <td>2168.792</td>\n",
       "      <td>MULTIPOLYGON (((-86.90367 36.27352, -86.90364 ...</td>\n",
       "    </tr>\n",
       "  </tbody>\n",
       "</table>\n",
       "</div>"
      ],
      "text/plain": [
       "                   name     acres  \\\n",
       "0    Harpeth River Park     69.86   \n",
       "1    Harpeth Knoll Park      9.88   \n",
       "2         Bellevue Park     17.14   \n",
       "3       Bells Bend Park    809.59   \n",
       "4  Alvin G. Beaman Park  2168.792   \n",
       "\n",
       "                                            geometry  \n",
       "0  MULTIPOLYGON (((-86.95547 36.07930, -86.95578 ...  \n",
       "1  MULTIPOLYGON (((-86.93860 36.06077, -86.93742 ...  \n",
       "2  MULTIPOLYGON (((-86.93207 36.06954, -86.93283 ...  \n",
       "3  MULTIPOLYGON (((-86.93987 36.16093, -86.93495 ...  \n",
       "4  MULTIPOLYGON (((-86.90367 36.27352, -86.90364 ...  "
      ]
     },
     "execution_count": 8,
     "metadata": {},
     "output_type": "execute_result"
    }
   ],
   "source": [
    "parks = parks[['name', 'acres', 'geometry']]\n",
    "parks.head()"
   ]
  },
  {
   "cell_type": "code",
   "execution_count": 9,
   "metadata": {},
   "outputs": [
    {
     "data": {
      "text/html": [
       "<div>\n",
       "<style scoped>\n",
       "    .dataframe tbody tr th:only-of-type {\n",
       "        vertical-align: middle;\n",
       "    }\n",
       "\n",
       "    .dataframe tbody tr th {\n",
       "        vertical-align: top;\n",
       "    }\n",
       "\n",
       "    .dataframe thead th {\n",
       "        text-align: right;\n",
       "    }\n",
       "</style>\n",
       "<table border=\"1\" class=\"dataframe\">\n",
       "  <thead>\n",
       "    <tr style=\"text-align: right;\">\n",
       "      <th></th>\n",
       "      <th>name_left</th>\n",
       "      <th>location</th>\n",
       "      <th>dog</th>\n",
       "      <th>objectid</th>\n",
       "      <th>lon</th>\n",
       "      <th>ada</th>\n",
       "      <th>cnt</th>\n",
       "      <th>lat</th>\n",
       "      <th>feat_type</th>\n",
       "      <th>geometry</th>\n",
       "      <th>index_right</th>\n",
       "      <th>name_right</th>\n",
       "      <th>acres</th>\n",
       "    </tr>\n",
       "  </thead>\n",
       "  <tbody>\n",
       "    <tr>\n",
       "      <th>0</th>\n",
       "      <td>Beaman Water Fountain</td>\n",
       "      <td>None</td>\n",
       "      <td>Y</td>\n",
       "      <td>45921</td>\n",
       "      <td>36.26250456</td>\n",
       "      <td>Y</td>\n",
       "      <td>1</td>\n",
       "      <td>-86.89425346</td>\n",
       "      <td>Fountain/Bottle filler/ADA</td>\n",
       "      <td>POINT (-86.89425 36.26250)</td>\n",
       "      <td>4</td>\n",
       "      <td>Alvin G. Beaman Park</td>\n",
       "      <td>2168.792</td>\n",
       "    </tr>\n",
       "    <tr>\n",
       "      <th>1</th>\n",
       "      <td>Edwin Nature Center Water Fountain</td>\n",
       "      <td>Restrooms Breezeway</td>\n",
       "      <td>N</td>\n",
       "      <td>45937</td>\n",
       "      <td>36.06089915</td>\n",
       "      <td>Y</td>\n",
       "      <td>1</td>\n",
       "      <td>-86.90622747</td>\n",
       "      <td>Bottle Filler/ADA</td>\n",
       "      <td>POINT (-86.90623 36.06090)</td>\n",
       "      <td>5</td>\n",
       "      <td>Edwin Warner Park</td>\n",
       "      <td>1113.12</td>\n",
       "    </tr>\n",
       "    <tr>\n",
       "      <th>29</th>\n",
       "      <td>Edwin Warner Dog Park Water Fountain</td>\n",
       "      <td>Dog Park</td>\n",
       "      <td>Y</td>\n",
       "      <td>46595</td>\n",
       "      <td>36.05195562</td>\n",
       "      <td>N</td>\n",
       "      <td>1</td>\n",
       "      <td>-86.90162012</td>\n",
       "      <td>Dog Only</td>\n",
       "      <td>POINT (-86.90162 36.05196)</td>\n",
       "      <td>5</td>\n",
       "      <td>Edwin Warner Park</td>\n",
       "      <td>1113.12</td>\n",
       "    </tr>\n",
       "    <tr>\n",
       "      <th>30</th>\n",
       "      <td>Edwin Warner Concession Water Fountain</td>\n",
       "      <td>WNSL Concessions</td>\n",
       "      <td>N</td>\n",
       "      <td>46597</td>\n",
       "      <td>36.04998346</td>\n",
       "      <td>Y</td>\n",
       "      <td>1</td>\n",
       "      <td>-86.8981744</td>\n",
       "      <td>Standard/ADA</td>\n",
       "      <td>POINT (-86.89817 36.04998)</td>\n",
       "      <td>5</td>\n",
       "      <td>Edwin Warner Park</td>\n",
       "      <td>1113.12</td>\n",
       "    </tr>\n",
       "    <tr>\n",
       "      <th>69</th>\n",
       "      <td>Harpeth River Greenway</td>\n",
       "      <td>Butler Field Trail Head</td>\n",
       "      <td>Y</td>\n",
       "      <td>0</td>\n",
       "      <td>36.05133033</td>\n",
       "      <td>N</td>\n",
       "      <td>1</td>\n",
       "      <td>-86.91617134</td>\n",
       "      <td>Standard/ADA/Bottle Filler</td>\n",
       "      <td>POINT (-86.91617 36.05133)</td>\n",
       "      <td>5</td>\n",
       "      <td>Edwin Warner Park</td>\n",
       "      <td>1113.12</td>\n",
       "    </tr>\n",
       "  </tbody>\n",
       "</table>\n",
       "</div>"
      ],
      "text/plain": [
       "                                 name_left                 location dog  \\\n",
       "0                    Beaman Water Fountain                     None   Y   \n",
       "1       Edwin Nature Center Water Fountain      Restrooms Breezeway   N   \n",
       "29    Edwin Warner Dog Park Water Fountain                 Dog Park   Y   \n",
       "30  Edwin Warner Concession Water Fountain         WNSL Concessions   N   \n",
       "69                  Harpeth River Greenway  Butler Field Trail Head   Y   \n",
       "\n",
       "   objectid          lon ada cnt           lat                   feat_type  \\\n",
       "0     45921  36.26250456   Y   1  -86.89425346  Fountain/Bottle filler/ADA   \n",
       "1     45937  36.06089915   Y   1  -86.90622747           Bottle Filler/ADA   \n",
       "29    46595  36.05195562   N   1  -86.90162012                    Dog Only   \n",
       "30    46597  36.04998346   Y   1   -86.8981744                Standard/ADA   \n",
       "69        0  36.05133033   N   1  -86.91617134  Standard/ADA/Bottle Filler   \n",
       "\n",
       "                      geometry  index_right            name_right     acres  \n",
       "0   POINT (-86.89425 36.26250)            4  Alvin G. Beaman Park  2168.792  \n",
       "1   POINT (-86.90623 36.06090)            5     Edwin Warner Park   1113.12  \n",
       "29  POINT (-86.90162 36.05196)            5     Edwin Warner Park   1113.12  \n",
       "30  POINT (-86.89817 36.04998)            5     Edwin Warner Park   1113.12  \n",
       "69  POINT (-86.91617 36.05133)            5     Edwin Warner Park   1113.12  "
      ]
     },
     "execution_count": 9,
     "metadata": {},
     "output_type": "execute_result"
    }
   ],
   "source": [
    "water_at_parks = gpd.sjoin(water, parks, op = 'within')\n",
    "water_at_parks.head()"
   ]
  },
  {
   "cell_type": "code",
   "execution_count": 10,
   "metadata": {},
   "outputs": [
    {
     "data": {
      "text/plain": [
       "(61, 13)"
      ]
     },
     "execution_count": 10,
     "metadata": {},
     "output_type": "execute_result"
    }
   ],
   "source": [
    "water_at_parks.shape"
   ]
  },
  {
   "cell_type": "code",
   "execution_count": 11,
   "metadata": {
    "scrolled": true
   },
   "outputs": [
    {
     "data": {
      "text/html": [
       "<div>\n",
       "<style scoped>\n",
       "    .dataframe tbody tr th:only-of-type {\n",
       "        vertical-align: middle;\n",
       "    }\n",
       "\n",
       "    .dataframe tbody tr th {\n",
       "        vertical-align: top;\n",
       "    }\n",
       "\n",
       "    .dataframe thead th {\n",
       "        text-align: right;\n",
       "    }\n",
       "</style>\n",
       "<table border=\"1\" class=\"dataframe\">\n",
       "  <thead>\n",
       "    <tr style=\"text-align: right;\">\n",
       "      <th></th>\n",
       "      <th>water_name</th>\n",
       "      <th>location</th>\n",
       "      <th>dog</th>\n",
       "      <th>objectid</th>\n",
       "      <th>lon</th>\n",
       "      <th>ada</th>\n",
       "      <th>cnt</th>\n",
       "      <th>lat</th>\n",
       "      <th>feat_type</th>\n",
       "      <th>geometry</th>\n",
       "      <th>index_right</th>\n",
       "      <th>park</th>\n",
       "      <th>acres</th>\n",
       "    </tr>\n",
       "  </thead>\n",
       "  <tbody>\n",
       "    <tr>\n",
       "      <th>0</th>\n",
       "      <td>Beaman Water Fountain</td>\n",
       "      <td>None</td>\n",
       "      <td>Y</td>\n",
       "      <td>45921</td>\n",
       "      <td>36.26250456</td>\n",
       "      <td>Y</td>\n",
       "      <td>1</td>\n",
       "      <td>-86.89425346</td>\n",
       "      <td>Fountain/Bottle filler/ADA</td>\n",
       "      <td>POINT (-86.89425 36.26250)</td>\n",
       "      <td>4</td>\n",
       "      <td>Alvin G. Beaman Park</td>\n",
       "      <td>2168.792</td>\n",
       "    </tr>\n",
       "    <tr>\n",
       "      <th>1</th>\n",
       "      <td>Edwin Nature Center Water Fountain</td>\n",
       "      <td>Restrooms Breezeway</td>\n",
       "      <td>N</td>\n",
       "      <td>45937</td>\n",
       "      <td>36.06089915</td>\n",
       "      <td>Y</td>\n",
       "      <td>1</td>\n",
       "      <td>-86.90622747</td>\n",
       "      <td>Bottle Filler/ADA</td>\n",
       "      <td>POINT (-86.90623 36.06090)</td>\n",
       "      <td>5</td>\n",
       "      <td>Edwin Warner Park</td>\n",
       "      <td>1113.12</td>\n",
       "    </tr>\n",
       "    <tr>\n",
       "      <th>29</th>\n",
       "      <td>Edwin Warner Dog Park Water Fountain</td>\n",
       "      <td>Dog Park</td>\n",
       "      <td>Y</td>\n",
       "      <td>46595</td>\n",
       "      <td>36.05195562</td>\n",
       "      <td>N</td>\n",
       "      <td>1</td>\n",
       "      <td>-86.90162012</td>\n",
       "      <td>Dog Only</td>\n",
       "      <td>POINT (-86.90162 36.05196)</td>\n",
       "      <td>5</td>\n",
       "      <td>Edwin Warner Park</td>\n",
       "      <td>1113.12</td>\n",
       "    </tr>\n",
       "    <tr>\n",
       "      <th>30</th>\n",
       "      <td>Edwin Warner Concession Water Fountain</td>\n",
       "      <td>WNSL Concessions</td>\n",
       "      <td>N</td>\n",
       "      <td>46597</td>\n",
       "      <td>36.04998346</td>\n",
       "      <td>Y</td>\n",
       "      <td>1</td>\n",
       "      <td>-86.8981744</td>\n",
       "      <td>Standard/ADA</td>\n",
       "      <td>POINT (-86.89817 36.04998)</td>\n",
       "      <td>5</td>\n",
       "      <td>Edwin Warner Park</td>\n",
       "      <td>1113.12</td>\n",
       "    </tr>\n",
       "    <tr>\n",
       "      <th>69</th>\n",
       "      <td>Harpeth River Greenway</td>\n",
       "      <td>Butler Field Trail Head</td>\n",
       "      <td>Y</td>\n",
       "      <td>0</td>\n",
       "      <td>36.05133033</td>\n",
       "      <td>N</td>\n",
       "      <td>1</td>\n",
       "      <td>-86.91617134</td>\n",
       "      <td>Standard/ADA/Bottle Filler</td>\n",
       "      <td>POINT (-86.91617 36.05133)</td>\n",
       "      <td>5</td>\n",
       "      <td>Edwin Warner Park</td>\n",
       "      <td>1113.12</td>\n",
       "    </tr>\n",
       "  </tbody>\n",
       "</table>\n",
       "</div>"
      ],
      "text/plain": [
       "                                water_name                 location dog  \\\n",
       "0                    Beaman Water Fountain                     None   Y   \n",
       "1       Edwin Nature Center Water Fountain      Restrooms Breezeway   N   \n",
       "29    Edwin Warner Dog Park Water Fountain                 Dog Park   Y   \n",
       "30  Edwin Warner Concession Water Fountain         WNSL Concessions   N   \n",
       "69                  Harpeth River Greenway  Butler Field Trail Head   Y   \n",
       "\n",
       "   objectid          lon ada cnt           lat                   feat_type  \\\n",
       "0     45921  36.26250456   Y   1  -86.89425346  Fountain/Bottle filler/ADA   \n",
       "1     45937  36.06089915   Y   1  -86.90622747           Bottle Filler/ADA   \n",
       "29    46595  36.05195562   N   1  -86.90162012                    Dog Only   \n",
       "30    46597  36.04998346   Y   1   -86.8981744                Standard/ADA   \n",
       "69        0  36.05133033   N   1  -86.91617134  Standard/ADA/Bottle Filler   \n",
       "\n",
       "                      geometry  index_right                  park     acres  \n",
       "0   POINT (-86.89425 36.26250)            4  Alvin G. Beaman Park  2168.792  \n",
       "1   POINT (-86.90623 36.06090)            5     Edwin Warner Park   1113.12  \n",
       "29  POINT (-86.90162 36.05196)            5     Edwin Warner Park   1113.12  \n",
       "30  POINT (-86.89817 36.04998)            5     Edwin Warner Park   1113.12  \n",
       "69  POINT (-86.91617 36.05133)            5     Edwin Warner Park   1113.12  "
      ]
     },
     "execution_count": 11,
     "metadata": {},
     "output_type": "execute_result"
    }
   ],
   "source": [
    "water_at_parks = water_at_parks.rename(columns = {'name_left': 'water_name', 'name_right': 'park'})\n",
    "water_at_parks.head()"
   ]
  },
  {
   "cell_type": "code",
   "execution_count": 12,
   "metadata": {},
   "outputs": [
    {
     "data": {
      "text/plain": [
       "geopandas.geodataframe.GeoDataFrame"
      ]
     },
     "execution_count": 12,
     "metadata": {},
     "output_type": "execute_result"
    }
   ],
   "source": [
    "type(water_at_parks)"
   ]
  },
  {
   "cell_type": "code",
   "execution_count": 13,
   "metadata": {},
   "outputs": [
    {
     "data": {
      "text/plain": [
       "Riverfront Park                5\n",
       "Edwin Warner Park              4\n",
       "Cedar Hill                     4\n",
       "Cane Ridge Park                3\n",
       "Fannie Mae Dees Park           3\n",
       "Shelby Park                    3\n",
       "Shelby Bottoms Park            3\n",
       "Sevier Park                    2\n",
       "Two Rivers Park                2\n",
       "McCabe Park                    2\n",
       "Richland Park                  1\n",
       "Centennial Park                1\n",
       "Elizabeth Park                 1\n",
       "Providence Park                1\n",
       "William Whitfield Park         1\n",
       "Isaac Litton School Park       1\n",
       "Public Square Park             1\n",
       "Buena Vista Park               1\n",
       "Bells Bend Park                1\n",
       "Percy Warner Park              1\n",
       "Parmer Park                    1\n",
       "West Park                      1\n",
       "City Cemetery                  1\n",
       "Fort Negley                    1\n",
       "Bordeaux Garden Park           1\n",
       "Alvin G. Beaman Park           1\n",
       "Cumberland Park                1\n",
       "Bellevue Park                  1\n",
       "Ted Rhodes Park                1\n",
       "Elmington Park                 1\n",
       "Seven Oaks Park                1\n",
       "Cleveland Park                 1\n",
       "E. N. Peeler Park              1\n",
       "Hadley Park                    1\n",
       "Hermitage Park                 1\n",
       "Bordeaux-Timothy Drive Park    1\n",
       "Woodmont Park                  1\n",
       "England                        1\n",
       "Name: park, dtype: int64"
      ]
     },
     "execution_count": 13,
     "metadata": {},
     "output_type": "execute_result"
    }
   ],
   "source": [
    "water_at_parks['park'].value_counts()"
   ]
  },
  {
   "cell_type": "code",
   "execution_count": 14,
   "metadata": {},
   "outputs": [
    {
     "data": {
      "text/plain": [
       "(5, 13)"
      ]
     },
     "execution_count": 14,
     "metadata": {},
     "output_type": "execute_result"
    }
   ],
   "source": [
    "water_in_riverfront = water_at_parks.loc[water_at_parks['park'] == 'Riverfront Park']\n",
    "water_in_riverfront.shape"
   ]
  },
  {
   "cell_type": "code",
   "execution_count": 15,
   "metadata": {},
   "outputs": [
    {
     "data": {
      "text/plain": [
       "(4, 3)"
      ]
     },
     "execution_count": 15,
     "metadata": {},
     "output_type": "execute_result"
    }
   ],
   "source": [
    "polygonriverfront = parks.loc[parks['name'] == 'Riverfront Park']\n",
    "polygonriverfront.shape"
   ]
  },
  {
   "cell_type": "code",
   "execution_count": 23,
   "metadata": {},
   "outputs": [
    {
     "data": {
      "image/png": "[encoded data removed]",
      "text/plain": [
       "<Figure size 576x720 with 1 Axes>"
      ]
     },
     "metadata": {
      "needs_background": "light"
     },
     "output_type": "display_data"
    }
   ],
   "source": [
    "ax = polygonriverfront.plot(figsize = (8, 10), color = 'lightgreen')\n",
    "water_in_riverfront.plot( ax = ax, column = 'park');\n",
    "plt.show();"
   ]
  },
  {
   "cell_type": "code",
   "execution_count": 17,
   "metadata": {},
   "outputs": [
    {
     "name": "stderr",
     "output_type": "stream",
     "text": [
      "<ipython-input-17-12f394e94a67>:1: UserWarning: Geometry is in a geographic CRS. Results from 'centroid' are likely incorrect. Use 'GeoSeries.to_crs()' to re-project geometries to a projected CRS before this operation.\n",
      "\n",
      "  polygonriverfront.geometry.centroid\n"
     ]
    },
    {
     "data": {
      "text/plain": [
       "53     POINT (-86.77611 36.16584)\n",
       "55     POINT (-86.77530 36.16424)\n",
       "59     POINT (-86.77404 36.16256)\n",
       "184    POINT (-86.77175 36.16015)\n",
       "dtype: geometry"
      ]
     },
     "execution_count": 17,
     "metadata": {},
     "output_type": "execute_result"
    }
   ],
   "source": [
    "polygonriverfront.geometry.centroid"
   ]
  },
  {
   "cell_type": "code",
   "execution_count": 18,
   "metadata": {},
   "outputs": [
    {
     "name": "stdout",
     "output_type": "stream",
     "text": [
      "POINT (-86.77404464109055 36.16255994309812)\n"
     ]
    },
    {
     "name": "stderr",
     "output_type": "stream",
     "text": [
      "<ipython-input-18-da81f01d0ae0>:1: UserWarning: Geometry is in a geographic CRS. Results from 'centroid' are likely incorrect. Use 'GeoSeries.to_crs()' to re-project geometries to a projected CRS before this operation.\n",
      "\n",
      "  center = polygonriverfront.geometry.centroid[59]\n"
     ]
    }
   ],
   "source": [
    "center = polygonriverfront.geometry.centroid[59]\n",
    "print(center)\n",
    "\n",
    "#area_center = [36.163, -86.77530]"
   ]
  },
  {
   "cell_type": "code",
   "execution_count": 19,
   "metadata": {},
   "outputs": [
    {
     "name": "stdout",
     "output_type": "stream",
     "text": [
      "[36.16255994309812, -86.77404464109055]\n"
     ]
    }
   ],
   "source": [
    "# reverse the order when constructing the array for folium location\n",
    "area_center = [center.y, center.x]\n",
    "\n",
    "# check the order of area_center, the location for our folium map\n",
    "print(area_center)"
   ]
  },
  {
   "cell_type": "code",
   "execution_count": 20,
   "metadata": {},
   "outputs": [
    {
     "data": {
      "text/html": [
       "<div style=\"width:100%;\"><div style=\"position:relative;width:100%;height:0;padding-bottom:60%;\"><span style=\"color:#565656\">Make this Notebook Trusted to load map: File -> Trust Notebook</span><iframe src=\"about:blank\" style=\"position:absolute;width:100%;height:100%;left:0;top:0;border:none !important;\" data-html=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 onload=\"this.contentDocument.open();this.contentDocument.write(atob(this.getAttribute('data-html')));this.contentDocument.close();\" allowfullscreen webkitallowfullscreen mozallowfullscreen></iframe></div></div>"
      ],
      "text/plain": [
       "<folium.folium.Map at 0x21cab90b7f0>"
      ]
     },
     "execution_count": 20,
     "metadata": {},
     "output_type": "execute_result"
    }
   ],
   "source": [
    "map_wp = folium.Map(location =  area_center, tiles='Stamen Terrain', zoom_start = 15)\n",
    "map_wp"
   ]
  },
  {
   "cell_type": "code",
   "execution_count": 21,
   "metadata": {},
   "outputs": [
    {
     "name": "stdout",
     "output_type": "stream",
     "text": [
      "index is 21\n",
      "values are:\n",
      " \n",
      "water_name                Ascend Amphiteater Water Fountain\n",
      "location                                           Building\n",
      "dog                                                       N\n",
      "objectid                                              46586\n",
      "lon                                              36.1589887\n",
      "ada                                                       N\n",
      "cnt                                                       1\n",
      "lat                                            -86.77188799\n",
      "feat_type                        Standard/ADA/Bottle Filler\n",
      "geometry       POINT (-86.77188799128072 36.15898870023951)\n",
      "index_right                                             184\n",
      "park                                        Riverfront Park\n",
      "acres                                                 12.54\n",
      "Name: 21, dtype: object\n",
      "------------------------- \n",
      "index is 44\n",
      "values are:\n",
      " \n",
      "water_name               Ascend Fitness Area Water Fountain\n",
      "location                                       Fitness Area\n",
      "dog                                                       N\n",
      "objectid                                              46633\n",
      "lon                                             36.15935444\n",
      "ada                                                       N\n",
      "cnt                                                       1\n",
      "lat                                            -86.77052029\n",
      "feat_type                        Standard/ADA/Bottle Filler\n",
      "geometry       POINT (-86.77052028735707 36.15935443644061)\n",
      "index_right                                             184\n",
      "park                                        Riverfront Park\n",
      "acres                                                 12.54\n",
      "Name: 44, dtype: object\n",
      "------------------------- \n",
      "index is 45\n",
      "values are:\n",
      " \n",
      "water_name                    Acend Dog Park Water Fountain\n",
      "location                                           Dog Park\n",
      "dog                                                       Y\n",
      "objectid                                              46634\n",
      "lon                                             36.16105409\n",
      "ada                                                       N\n",
      "cnt                                                       1\n",
      "lat                                            -86.77310593\n",
      "feat_type                        Standard/ADA/Bottle Filler\n",
      "geometry       POINT (-86.77310593163244 36.16105408820611)\n",
      "index_right                                             184\n",
      "park                                        Riverfront Park\n",
      "acres                                                 12.54\n",
      "Name: 45, dtype: object\n",
      "------------------------- \n",
      "index is 46\n",
      "values are:\n",
      " \n",
      "water_name                    Acend Dog Park Water Fountain\n",
      "location                                           Dog Park\n",
      "dog                                                       Y\n",
      "objectid                                              46635\n",
      "lon                                             36.16093199\n",
      "ada                                                       N\n",
      "cnt                                                       1\n",
      "lat                                            -86.77307034\n",
      "feat_type                        Standard/ADA/Bottle Filler\n",
      "geometry       POINT (-86.77307033558381 36.16093198508668)\n",
      "index_right                                             184\n",
      "park                                        Riverfront Park\n",
      "acres                                                 12.54\n",
      "Name: 46, dtype: object\n",
      "------------------------- \n",
      "index is 71\n",
      "values are:\n",
      " \n",
      "water_name               Ascend Amphiteater Water Fountain\n",
      "location                                          Building\n",
      "dog                                                      N\n",
      "objectid                                                 0\n",
      "lon                                            36.16014227\n",
      "ada                                                      N\n",
      "cnt                                                      1\n",
      "lat                                           -86.77120998\n",
      "feat_type                       Standard/ADA/Bottle Filler\n",
      "geometry       POINT (-86.77120998276931 36.1601422664622)\n",
      "index_right                                            184\n",
      "park                                       Riverfront Park\n",
      "acres                                                12.54\n",
      "Name: 71, dtype: object\n",
      "------------------------- \n"
     ]
    }
   ],
   "source": [
    "i = 0\n",
    "for row_index, row_values in water_in_riverfront.iterrows():\n",
    "    if i <5: \n",
    "        print('index is', row_index)\n",
    "        print('values are:')\n",
    "        print(' ')\n",
    "        print(row_values)\n",
    "        print('------------------------- ')\n",
    "        i+=1"
   ]
  },
  {
   "cell_type": "code",
   "execution_count": 39,
   "metadata": {},
   "outputs": [
    {
     "data": {
      "text/html": [
       "<div style=\"width:100%;\"><div style=\"position:relative;width:100%;height:0;padding-bottom:60%;\"><span style=\"color:#565656\">Make this Notebook Trusted to load map: File -> Trust Notebook</span><iframe src=\"about:blank\" style=\"position:absolute;width:100%;height:100%;left:0;top:0;border:none !important;\" data-html=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 onload=\"this.contentDocument.open();this.contentDocument.write(atob(this.getAttribute('data-html')));this.contentDocument.close();\" allowfullscreen webkitallowfullscreen mozallowfullscreen></iframe></div></div>"
      ],
      "text/plain": [
       "<folium.folium.Map at 0x21cabd93670>"
      ]
     },
     "execution_count": 39,
     "metadata": {},
     "output_type": "execute_result"
    }
   ],
   "source": [
    "map_wp = folium.Map(location = area_center, tiles='Stamen Terrain', zoom_start = 15)\n",
    "\n",
    "folium.GeoJson(polygonriverfront).add_to(map_wp)\n",
    "\n",
    "for row_index, row_values in water_in_riverfront.iterrows() :\n",
    "    loc = (row_values['lon'], row_values['lat']) \n",
    "    pop = str(row_values['feat_type']) \n",
    "    icon = folium.Icon(color='blue', icon='tint')\n",
    "   \n",
    "    marker = folium.Marker(\n",
    "        location = loc, \n",
    "        popup = pop, \n",
    "        icon = icon)\n",
    "    marker.add_to(map_wp)\n",
    "\n",
    "map_wp"
   ]
  },
  {
   "cell_type": "code",
   "execution_count": null,
   "metadata": {},
   "outputs": [],
   "source": []
  }
 ],
 "metadata": {
  "kernelspec": {
   "display_name": "Python 3",
   "language": "python",
   "name": "python3"
  },
  "language_info": {
   "codemirror_mode": {
    "name": "ipython",
    "version": 3
   },
   "file_extension": ".py",
   "mimetype": "text/x-python",
   "name": "python",
   "nbconvert_exporter": "python",
   "pygments_lexer": "ipython3",
   "version": "3.8.5"
  }
 },
 "nbformat": 4,
 "nbformat_minor": 4
}
